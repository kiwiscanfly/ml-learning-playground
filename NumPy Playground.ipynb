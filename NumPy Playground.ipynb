{
 "cells": [
  {
   "cell_type": "markdown",
   "id": "e776f54a-d66e-470f-bc23-3e5c499ded0d",
   "metadata": {},
   "source": [
    "# NumPy Playground\n",
    "\n",
    "This notebook outlines the fundimentals of working with NumPy."
   ]
  },
  {
   "cell_type": "code",
   "execution_count": 1,
   "id": "93239f13-80ec-4095-9b5a-b9adbcced07e",
   "metadata": {},
   "outputs": [],
   "source": [
    "import numpy as np\n"
   ]
  },
  {
   "cell_type": "markdown",
   "id": "a1160f95-0812-4840-b483-5ab13e0d7e83",
   "metadata": {},
   "source": [
    "## The Basics"
   ]
  },
  {
   "cell_type": "code",
   "execution_count": 8,
   "id": "d12d16f1-8b89-41ad-a710-023aad4c50e4",
   "metadata": {},
   "outputs": [
    {
     "data": {
      "text/plain": [
       "array([1, 2, 3], dtype=int16)"
      ]
     },
     "execution_count": 8,
     "metadata": {},
     "output_type": "execute_result"
    }
   ],
   "source": [
    "a = np.array([1, 2, 3], dtype='int16')\n",
    "a"
   ]
  },
  {
   "cell_type": "code",
   "execution_count": 3,
   "id": "3defa4a3-bdc8-4679-abbf-e7c1361bcf69",
   "metadata": {},
   "outputs": [
    {
     "name": "stdout",
     "output_type": "stream",
     "text": [
      "[[9. 8. 7.]\n",
      " [6. 5. 4.]]\n"
     ]
    }
   ],
   "source": [
    "b = np.array([[9.0, 8.0, 7.0],[6.0, 5.0, 4.0]])\n",
    "print(b)"
   ]
  },
  {
   "cell_type": "code",
   "execution_count": 4,
   "id": "8e78d383-a362-4f56-be41-d739dfab4aef",
   "metadata": {},
   "outputs": [
    {
     "data": {
      "text/plain": [
       "2"
      ]
     },
     "execution_count": 4,
     "metadata": {},
     "output_type": "execute_result"
    }
   ],
   "source": [
    "# Get dimension\n",
    "b.ndim"
   ]
  },
  {
   "cell_type": "code",
   "execution_count": 5,
   "id": "e39cedb9-1832-4851-a69c-eaa5b5b99bed",
   "metadata": {},
   "outputs": [
    {
     "data": {
      "text/plain": [
       "(2, 3)"
      ]
     },
     "execution_count": 5,
     "metadata": {},
     "output_type": "execute_result"
    }
   ],
   "source": [
    "b.shape"
   ]
  },
  {
   "cell_type": "code",
   "execution_count": 10,
   "id": "cd557825-59b8-432a-a171-6753b936ce82",
   "metadata": {},
   "outputs": [
    {
     "data": {
      "text/plain": [
       "dtype('int16')"
      ]
     },
     "execution_count": 10,
     "metadata": {},
     "output_type": "execute_result"
    }
   ],
   "source": [
    "# get the datatype of items\n",
    "a.dtype"
   ]
  },
  {
   "cell_type": "code",
   "execution_count": 11,
   "id": "70916f1c-d6f3-47da-960b-725e6e8b8406",
   "metadata": {},
   "outputs": [
    {
     "data": {
      "text/plain": [
       "2"
      ]
     },
     "execution_count": 11,
     "metadata": {},
     "output_type": "execute_result"
    }
   ],
   "source": [
    "# get the size of an item in bytes\n",
    "a.itemsize"
   ]
  },
  {
   "cell_type": "code",
   "execution_count": 13,
   "id": "337a1d99-a194-40fe-8824-b1da769a52f2",
   "metadata": {},
   "outputs": [
    {
     "data": {
      "text/plain": [
       "6"
      ]
     },
     "execution_count": 13,
     "metadata": {},
     "output_type": "execute_result"
    }
   ],
   "source": [
    "# get the total size\n",
    "a.nbytes"
   ]
  },
  {
   "cell_type": "markdown",
   "id": "cccdb655-f94d-4c4e-9f9c-b127727292e3",
   "metadata": {},
   "source": [
    "## Accessing/Changing specific elements, rows, columns, etc."
   ]
  },
  {
   "cell_type": "code",
   "execution_count": 19,
   "id": "a84c4690-b300-4476-8a82-fa6811a9a481",
   "metadata": {},
   "outputs": [
    {
     "data": {
      "text/plain": [
       "(2, 7)"
      ]
     },
     "execution_count": 19,
     "metadata": {},
     "output_type": "execute_result"
    }
   ],
   "source": [
    "two_d = np.array([[1,2,3,4,5,6,7],[7,8,9,10,11,12,13]])\n",
    "two_d.shape"
   ]
  },
  {
   "cell_type": "code",
   "execution_count": 20,
   "id": "d5a3995d-b67e-4d9a-b477-e1fbba9385c9",
   "metadata": {},
   "outputs": [
    {
     "data": {
      "text/plain": [
       "12"
      ]
     },
     "execution_count": 20,
     "metadata": {},
     "output_type": "execute_result"
    }
   ],
   "source": [
    "two_d[1,5]"
   ]
  },
  {
   "cell_type": "code",
   "execution_count": 22,
   "id": "b2e8b752-0c38-4830-83fa-b6e4781f3863",
   "metadata": {},
   "outputs": [
    {
     "data": {
      "text/plain": [
       "array([1, 2, 3, 4, 5, 6, 7])"
      ]
     },
     "execution_count": 22,
     "metadata": {},
     "output_type": "execute_result"
    }
   ],
   "source": [
    "# get a specific row\n",
    "two_d[0,:]"
   ]
  },
  {
   "cell_type": "code",
   "execution_count": 23,
   "id": "c8b05664-5529-4e51-aab7-b14984e342f3",
   "metadata": {},
   "outputs": [
    {
     "data": {
      "text/plain": [
       "array([3, 9])"
      ]
     },
     "execution_count": 23,
     "metadata": {},
     "output_type": "execute_result"
    }
   ],
   "source": [
    "# get a specific column\n",
    "two_d[:, 2]"
   ]
  },
  {
   "cell_type": "code",
   "execution_count": 37,
   "id": "3106a5ae-9c07-4a7e-819a-a4af74e43a1c",
   "metadata": {},
   "outputs": [
    {
     "data": {
      "text/plain": [
       "array([2, 4, 6])"
      ]
     },
     "execution_count": 37,
     "metadata": {},
     "output_type": "execute_result"
    }
   ],
   "source": [
    "# Gettin' fancy 💃🏻 [startIndex:endIndex:stepSize]\n",
    "two_d[0, 1:6:2] # first row, elements 2 until 6, every second item"
   ]
  },
  {
   "cell_type": "code",
   "execution_count": 38,
   "id": "330bde01-3868-44c0-9e8a-ba9b661247be",
   "metadata": {},
   "outputs": [
    {
     "name": "stdout",
     "output_type": "stream",
     "text": [
      "[[ 1  2  3  4  5  6  7]\n",
      " [ 7  8  9 10 11 42 13]]\n"
     ]
    }
   ],
   "source": [
    "# Changing elements\n",
    "two_d[1,5] = 42\n",
    "print(two_d)"
   ]
  },
  {
   "cell_type": "code",
   "execution_count": 43,
   "id": "799408fd-612d-4e8a-bc42-3ca8c65e35f6",
   "metadata": {},
   "outputs": [
    {
     "name": "stdout",
     "output_type": "stream",
     "text": [
      "[[ 1  2  7  4  5 10  7]\n",
      " [ 7  8  7 10 11 11 13]]\n",
      "\n",
      "\n",
      "[[ 1  2  7  4  5 10  7]\n",
      " [ 7  8  7 10 11 11 13]]\n"
     ]
    }
   ],
   "source": [
    "# Updating a column\n",
    "two_d[:,2] = 7\n",
    "print(two_d)\n",
    "\n",
    "print(\"\\n\")\n",
    "\n",
    "two_d[:,5] = [10,11]\n",
    "print(two_d)"
   ]
  },
  {
   "cell_type": "markdown",
   "id": "5007eb99-c60c-43b9-9065-879a68261482",
   "metadata": {},
   "source": [
    "## Initializing Different Types of Arrays"
   ]
  },
  {
   "cell_type": "code",
   "execution_count": 54,
   "id": "b6ea6c0e-291b-43b1-9a99-2f28693038f9",
   "metadata": {},
   "outputs": [
    {
     "name": "stdout",
     "output_type": "stream",
     "text": [
      "[0 0 0 0 0]\n",
      "\n",
      "\n",
      "[[0. 0. 0. 0.]\n",
      " [0. 0. 0. 0.]]\n",
      "\n",
      "\n",
      "[1. 1. 1. 1. 1.]\n",
      "\n",
      "\n",
      "[[42 42]\n",
      " [42 42]]\n"
     ]
    }
   ],
   "source": [
    "# All 0s matrix\n",
    "one_d_zero = np.zeros(5, dtype='int32') # single dimension\n",
    "print(one_d_zero)\n",
    "\n",
    "print(\"\\n\")\n",
    "\n",
    "two_by_four = np.zeros((2,4)) # multi dimension\n",
    "print(two_by_four)\n",
    "\n",
    "print(\"\\n\")\n",
    "\n",
    "# All ones\n",
    "one_d_one = np.ones(5)\n",
    "print(one_d_one)\n",
    "\n",
    "print(\"\\n\")\n",
    "\n",
    "# All 42s\n",
    "life_the_universe_and_everything = np.full((2,2), 42)\n",
    "print(life_the_universe_and_everything)"
   ]
  },
  {
   "cell_type": "code",
   "execution_count": 67,
   "id": "42bda2ff-11e8-4bfd-b247-bfeab809db61",
   "metadata": {},
   "outputs": [
    {
     "name": "stdout",
     "output_type": "stream",
     "text": [
      "[[0.48251224 0.88736334]\n",
      " [0.18659216 0.88948616]]\n",
      "\n",
      "\n",
      "[[20 15]\n",
      " [ 1 11]]\n"
     ]
    }
   ],
   "source": [
    "# Random decimal numbers\n",
    "rfloat = np.random.rand(2,2)\n",
    "print(rfloat)\n",
    "\n",
    "print(\"\\n\")\n",
    "\n",
    "# Random integers, size is optional, first arg is the bounds (exclusive) if one unnamed arg given\n",
    "rint = np.random.randint(42, size=rfloat.shape)\n",
    "print(rint)"
   ]
  },
  {
   "cell_type": "markdown",
   "id": "702b4cb8-bb41-4004-8e6c-30365ed17f98",
   "metadata": {},
   "source": [
    "## Pass by reference"
   ]
  },
  {
   "cell_type": "code",
   "execution_count": 68,
   "id": "59a275f4-d679-4526-9982-6c6cda005151",
   "metadata": {},
   "outputs": [
    {
     "name": "stdout",
     "output_type": "stream",
     "text": [
      "[100   2   3]\n"
     ]
    }
   ],
   "source": [
    "a = np.array([1, 2, 3])\n",
    "b = a\n",
    "b[0] = 100\n",
    "\n",
    "print(a)"
   ]
  },
  {
   "cell_type": "code",
   "execution_count": 69,
   "id": "053adcb0-a80f-47ae-bd3e-88a8ba89e2b2",
   "metadata": {},
   "outputs": [
    {
     "name": "stdout",
     "output_type": "stream",
     "text": [
      "[1 2 3]\n"
     ]
    }
   ],
   "source": [
    "a = np.array([1, 2, 3])\n",
    "b = a.copy()\n",
    "b[0] = 100\n",
    "\n",
    "print(a)"
   ]
  },
  {
   "cell_type": "markdown",
   "id": "554b1fc4-ec8e-4b88-bd70-f84791acddea",
   "metadata": {},
   "source": [
    "## Math"
   ]
  },
  {
   "cell_type": "code",
   "execution_count": 70,
   "id": "dfe5a6eb-f686-4dd2-9fc0-e8a036a63d70",
   "metadata": {},
   "outputs": [],
   "source": [
    "a = np.array([1, 2, 3, 4])"
   ]
  },
  {
   "cell_type": "code",
   "execution_count": 71,
   "id": "ab6e4cda-3855-4851-a142-249ffa6dfc82",
   "metadata": {},
   "outputs": [
    {
     "data": {
      "text/plain": [
       "array([3, 4, 5, 6])"
      ]
     },
     "execution_count": 71,
     "metadata": {},
     "output_type": "execute_result"
    }
   ],
   "source": [
    "a + 2"
   ]
  },
  {
   "cell_type": "code",
   "execution_count": 77,
   "id": "1ec1c7a5-dafd-45ec-8866-4dd240252bfb",
   "metadata": {},
   "outputs": [
    {
     "name": "stdout",
     "output_type": "stream",
     "text": [
      "int64\n",
      "int64\n",
      "[0.5 1.  3.  2. ]\n",
      "float64\n"
     ]
    }
   ],
   "source": [
    "print(a.dtype)\n",
    "\n",
    "b = np.array([2, 2, 1, 2])\n",
    "print(b.dtype)\n",
    "\n",
    "c = a / b\n",
    "print(c)\n",
    "print(c.dtype)"
   ]
  },
  {
   "cell_type": "code",
   "execution_count": 83,
   "id": "ebbe7355-66e3-48df-89fd-a9323c42ffc5",
   "metadata": {},
   "outputs": [
    {
     "data": {
      "text/plain": [
       "array([[0.54030231, 0.54030231, 0.54030231],\n",
       "       [0.54030231, 0.54030231, 0.54030231]])"
      ]
     },
     "execution_count": 83,
     "metadata": {},
     "output_type": "execute_result"
    }
   ],
   "source": [
    "np.cos(a)"
   ]
  },
  {
   "cell_type": "code",
   "execution_count": 86,
   "id": "24e12ab3-baf6-4654-a5d7-d2a7499e5d9b",
   "metadata": {},
   "outputs": [
    {
     "data": {
      "text/plain": [
       "1"
      ]
     },
     "execution_count": 86,
     "metadata": {},
     "output_type": "execute_result"
    }
   ],
   "source": [
    "a = np.array([1, 2, 3, 4])\n",
    "np.min(a)"
   ]
  },
  {
   "cell_type": "code",
   "execution_count": 99,
   "id": "ae641690-76a3-4145-87d2-e46c125e57f9",
   "metadata": {},
   "outputs": [
    {
     "name": "stdout",
     "output_type": "stream",
     "text": [
      "8\n",
      "\n",
      "\n",
      "[4 8]\n",
      "\n",
      "\n",
      "36\n",
      "\n",
      "\n",
      "[ 6  8 10 12]\n"
     ]
    }
   ],
   "source": [
    "b = np.array([[1, 2, 3, 4], [5, 6, 7, 8]])\n",
    "print(np.max(b))\n",
    "print(\"\\n\")\n",
    "print(np.max(b, axis=1))\n",
    "print(\"\\n\")\n",
    "print(np.sum(b))\n",
    "print(\"\\n\")\n",
    "print(np.sum(b, axis=0))"
   ]
  },
  {
   "cell_type": "markdown",
   "id": "4fbb85ec-6658-4e40-8e57-694f767cc068",
   "metadata": {},
   "source": [
    "## Reorganising Arrays"
   ]
  },
  {
   "cell_type": "code",
   "execution_count": 104,
   "id": "d1a3ed81-48b5-4592-894a-c9a4ca2710d6",
   "metadata": {},
   "outputs": [
    {
     "name": "stdout",
     "output_type": "stream",
     "text": [
      "[[1 2]\n",
      " [3 4]\n",
      " [5 6]\n",
      " [7 8]]\n"
     ]
    }
   ],
   "source": [
    "# Reshaping \n",
    "b4 = np.array([[1, 2, 3, 4], [5, 6, 7, 8]])\n",
    "\n",
    "aft = b4.reshape((4,2))\n",
    "print(aft)"
   ]
  },
  {
   "cell_type": "code",
   "execution_count": 110,
   "id": "b3eee323-f8a6-4d3c-969a-cdc0655fe58b",
   "metadata": {},
   "outputs": [
    {
     "data": {
      "text/plain": [
       "array([[1, 2, 3, 4],\n",
       "       [5, 6, 7, 8]])"
      ]
     },
     "execution_count": 110,
     "metadata": {},
     "output_type": "execute_result"
    }
   ],
   "source": [
    "# Vertically stacking\n",
    "a = np.array([1, 2, 3, 4])\n",
    "b = np.array([5, 6, 7, 8])\n",
    "\n",
    "np.vstack([a, b])"
   ]
  },
  {
   "cell_type": "code",
   "execution_count": 109,
   "id": "6e425ceb-81db-4b20-ad95-81c9a0ed0db7",
   "metadata": {},
   "outputs": [
    {
     "data": {
      "text/plain": [
       "array([1, 2, 3, 4, 5, 6, 7, 8])"
      ]
     },
     "execution_count": 109,
     "metadata": {},
     "output_type": "execute_result"
    }
   ],
   "source": [
    "# Horizontal stack\n",
    "\n",
    "a = np.array([1, 2, 3, 4])\n",
    "b = np.array([5, 6, 7, 8])\n",
    "\n",
    "np.hstack([a, b])"
   ]
  },
  {
   "cell_type": "markdown",
   "id": "ce0a257a-e406-42db-a6a7-bb2778b97eb9",
   "metadata": {},
   "source": [
    "## Misc"
   ]
  },
  {
   "cell_type": "code",
   "execution_count": 116,
   "id": "4ad1631c-620f-4984-94e9-e168104eae8f",
   "metadata": {},
   "outputs": [
    {
     "data": {
      "text/plain": [
       "array([[  1,  13,  21,  11, 196,  75,   4,   3,  34,   6,   7,   8,   0,\n",
       "          1,   2,   3,   4,   5],\n",
       "       [  3,  42,  12,  33, 766,  75,   4,  55,   6,   4,   3,   4,   5,\n",
       "          6,   7,   0,  11,  12],\n",
       "       [  1,  22,  33,  11, 999,  11,   2,   1,  78,   0,   1,   2,   9,\n",
       "          8,   7,   1,  76,  88]], dtype=int32)"
      ]
     },
     "execution_count": 116,
     "metadata": {},
     "output_type": "execute_result"
    }
   ],
   "source": [
    "# Load from text file\n",
    "filedata = np.genfromtxt('numbers.txt', delimiter=',')\n",
    "filedata.astype('int32')"
   ]
  },
  {
   "cell_type": "code",
   "execution_count": 118,
   "id": "3101fcce-5728-4f1f-bd2d-ff427d2ae305",
   "metadata": {},
   "outputs": [
    {
     "data": {
      "text/plain": [
       "array([[False, False,  True, False,  True,  True, False, False,  True,\n",
       "        False, False, False, False, False, False, False, False, False],\n",
       "       [False,  True, False,  True,  True,  True, False,  True, False,\n",
       "        False, False, False, False, False, False, False, False, False],\n",
       "       [False,  True,  True, False,  True, False, False, False,  True,\n",
       "        False, False, False, False, False, False, False,  True,  True]])"
      ]
     },
     "execution_count": 118,
     "metadata": {},
     "output_type": "execute_result"
    }
   ],
   "source": [
    "filedata > 20"
   ]
  },
  {
   "cell_type": "code",
   "execution_count": 119,
   "id": "45454eb7-88a2-407c-a7a9-17196ed9bc77",
   "metadata": {},
   "outputs": [
    {
     "data": {
      "text/plain": [
       "array([ 21., 196.,  75.,  34.,  42.,  33., 766.,  75.,  55.,  22.,  33.,\n",
       "       999.,  78.,  76.,  88.])"
      ]
     },
     "execution_count": 119,
     "metadata": {},
     "output_type": "execute_result"
    }
   ],
   "source": [
    "# Create a new array basedon on a condition\n",
    "filedata[filedata > 20]"
   ]
  },
  {
   "cell_type": "code",
   "execution_count": 124,
   "id": "c8d43d8a-5075-4efd-ab34-1ec6fb0b072d",
   "metadata": {},
   "outputs": [
    {
     "data": {
      "text/plain": [
       "array([1, 3, 5])"
      ]
     },
     "execution_count": 124,
     "metadata": {},
     "output_type": "execute_result"
    }
   ],
   "source": [
    "a = np.array([1, 2, 3, 4, 5, 6, 7, 8])\n",
    "\n",
    "# Create a new array by plucking particular indexes\n",
    "a[[0,2,4]]"
   ]
  },
  {
   "cell_type": "code",
   "execution_count": 125,
   "id": "8ee2a769-8956-4b15-bd15-5a0217c06dad",
   "metadata": {},
   "outputs": [
    {
     "data": {
      "text/plain": [
       "array([False,  True,  True,  True,  True,  True, False,  True,  True,\n",
       "       False, False, False, False, False, False, False,  True,  True])"
      ]
     },
     "execution_count": 125,
     "metadata": {},
     "output_type": "execute_result"
    }
   ],
   "source": [
    "# What columns have a value > 20\n",
    "np.any(filedata > 20, axis=0)"
   ]
  },
  {
   "cell_type": "code",
   "execution_count": 126,
   "id": "8e41094e-07db-4db6-9415-13a5716235d2",
   "metadata": {},
   "outputs": [
    {
     "data": {
      "text/plain": [
       "array([[False, False,  True, False, False, False, False, False,  True,\n",
       "        False, False, False, False, False, False, False, False, False],\n",
       "       [False,  True, False,  True, False, False, False, False, False,\n",
       "        False, False, False, False, False, False, False, False, False],\n",
       "       [False,  True,  True, False, False, False, False, False, False,\n",
       "        False, False, False, False, False, False, False, False, False]])"
      ]
     },
     "execution_count": 126,
     "metadata": {},
     "output_type": "execute_result"
    }
   ],
   "source": [
    "# Array showing what values meet a condition\n",
    "((filedata > 20) & (filedata < 50))"
   ]
  },
  {
   "cell_type": "code",
   "execution_count": null,
   "id": "65224dec-ba2f-4292-b604-e098f3266c3e",
   "metadata": {},
   "outputs": [],
   "source": []
  }
 ],
 "metadata": {
  "kernelspec": {
   "display_name": "Python 3 (ipykernel)",
   "language": "python",
   "name": "python3"
  },
  "language_info": {
   "codemirror_mode": {
    "name": "ipython",
    "version": 3
   },
   "file_extension": ".py",
   "mimetype": "text/x-python",
   "name": "python",
   "nbconvert_exporter": "python",
   "pygments_lexer": "ipython3",
   "version": "3.12.7"
  }
 },
 "nbformat": 4,
 "nbformat_minor": 5
}
